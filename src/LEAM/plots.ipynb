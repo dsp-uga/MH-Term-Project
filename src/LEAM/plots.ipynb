{
 "cells": [
  {
   "cell_type": "code",
   "execution_count": 23,
   "metadata": {
    "collapsed": true
   },
   "outputs": [],
   "source": [
    "import sys\n",
    "import numpy as np\n",
    "from matplotlib import pyplot as plt"
   ]
  },
  {
   "cell_type": "code",
   "execution_count": 24,
   "metadata": {
    "collapsed": true
   },
   "outputs": [],
   "source": [
    "history_track = np.load(\"../../model_trace/trace_history_ver_1.1.0.npy\")"
   ]
  },
  {
   "cell_type": "markdown",
   "metadata": {},
   "source": [
    "## Base model"
   ]
  },
  {
   "cell_type": "code",
   "execution_count": 25,
   "metadata": {
    "collapsed": true
   },
   "outputs": [],
   "source": [
    "train_loss = history_track[0]\n",
    "train_acc = history_track[1]\n",
    "val_acc = history_track[2]\n",
    "\n",
    "t = np.array(train_loss)[:,0]\n",
    "loss = np.array(train_loss)[:,1]\n",
    "\n",
    "acc_t = np.array(train_acc)[:,0]\n",
    "train_acc_y = np.array(train_acc)[:,1]\n",
    "val_acc_y = np.array(val_acc)[:,1]\n",
    "\n",
    "fig = plt.figure(figsize=(14,10))\n",
    "plt.rcParams.update({'font.size': 18})\n",
    "plt.rcParams['font.family'] = 'sans-serif'\n",
    "plt.rcParams['font.sans-serif'] = ['Tahoma']\n",
    "plt.plot(acc_t,val_acc_y,linewidth=3.0)\n",
    "plt.plot(acc_t,train_acc_y,linewidth=3.0)\n",
    "plt.legend(['Validation Accuracy', 'Training Accuracy'], loc='upper left')\n",
    "plt.xlabel(\"Training Steps\")\n",
    "plt.ylabel(\"Accuracy\")\n",
    "plt.gca().set_yticklabels(['{:.0f}%'.format(x*100) for x in plt.gca().get_yticks()])\n",
    "plt.title(\"Training & Validation accuracy with 100 epochs\")\n",
    "#plt.show()\n",
    "plt.savefig('accuracy.png')\n",
    "\n",
    "fig = plt.figure(figsize=(14,10))\n",
    "plt.rcParams.update({'font.size': 18})\n",
    "plt.rcParams['font.family'] = 'sans-serif'\n",
    "plt.rcParams['font.sans-serif'] = ['Tahoma']\n",
    "plt.plot(t,loss,linewidth=3.0)\n",
    "plt.legend(['Training Loss'], loc='upper right')\n",
    "plt.xlabel(\"Training Steps\")\n",
    "plt.ylabel(\"Regularized Loss\")\n",
    "plt.title(\"Training loss with 100 epochs\")\n",
    "#plt.show()\n",
    "plt.savefig('loss.png')"
   ]
  },
  {
   "cell_type": "code",
   "execution_count": 14,
   "metadata": {},
   "outputs": [],
   "source": [
    "history_track = np.load(\"../../model_trace/trace_history_ver_1.1.0.npy\")\n",
    "\n",
    "train_loss = history_track[0]\n",
    "train_acc = history_track[1]\n",
    "val_acc = history_track[2]\n",
    "\n",
    "t = np.array(train_loss)[:,0]\n",
    "loss = np.array(train_loss)[:,1]\n",
    "\n",
    "acc_t = np.array(train_acc)[:,0]\n",
    "train_acc_y = np.array(train_acc)[:,1]\n",
    "val_acc_y = np.array(val_acc)[:,1]\n",
    "\n",
    "history_track_nograd = np.load(\"../../model_trace/trace_history_ver_1.1.0_nograds.npy\")\n",
    "\n",
    "train_loss_nograd = history_track_nograd[0]\n",
    "train_acc_nograd = history_track_nograd[1]\n",
    "val_acc_nograd = history_track_nograd[2]\n",
    "\n",
    "t_nograd = np.array(train_loss_nograd)[:,0]\n",
    "loss_nograd = np.array(train_loss_nograd)[:,1]\n",
    "\n",
    "acc_t_nograd = np.array(train_acc_nograd)[:,0]\n",
    "train_acc_y_nograd = np.array(train_acc_nograd)[:,1]\n",
    "val_acc_y_nograd = np.array(val_acc_nograd)[:,1]\n",
    "\n",
    "fig = plt.figure(figsize=(14,10))\n",
    "plt.rcParams.update({'font.size': 18})\n",
    "plt.rcParams['font.family'] = 'sans-serif'\n",
    "plt.rcParams['font.sans-serif'] = ['Tahoma']\n",
    "plt.plot(acc_t,val_acc_y,linewidth=3.0)\n",
    "plt.plot(acc_t_nograd,val_acc_y_nograd,linewidth=3.0)\n",
    "plt.legend(['with grad', 'no grad'])\n",
    "plt.xlabel(\"Training Steps\")\n",
    "plt.ylabel(\"Accuracy\")\n",
    "plt.gca().set_yticklabels(['{:.0f}%'.format(x*100) for x in plt.gca().get_yticks()])\n",
    "plt.title(\"Validation accuracy comparison with different embedding settings\")\n",
    "#plt.show()\n",
    "plt.savefig('accuracy_c1.png')\n",
    "\n",
    "fig = plt.figure(figsize=(14,10))\n",
    "plt.rcParams.update({'font.size': 18})\n",
    "plt.rcParams['font.family'] = 'sans-serif'\n",
    "plt.rcParams['font.sans-serif'] = ['Tahoma']\n",
    "plt.plot(t,loss,linewidth=3.0)\n",
    "plt.plot(t_nograd,loss_nograd,linewidth=3.0)\n",
    "plt.legend(['with grad', 'no grad'])\n",
    "plt.xlabel(\"Training Steps\")\n",
    "plt.ylabel(\"Regularized Loss\")\n",
    "plt.title(\"Training loss comparison with different embedding settings\")\n",
    "#plt.show()\n",
    "plt.savefig('loss_c1.png')"
   ]
  },
  {
   "cell_type": "code",
   "execution_count": null,
   "metadata": {
    "collapsed": true
   },
   "outputs": [],
   "source": []
  }
 ],
 "metadata": {
  "kernelspec": {
   "display_name": "Python 2",
   "language": "python",
   "name": "python2"
  },
  "language_info": {
   "codemirror_mode": {
    "name": "ipython",
    "version": 2
   },
   "file_extension": ".py",
   "mimetype": "text/x-python",
   "name": "python",
   "nbconvert_exporter": "python",
   "pygments_lexer": "ipython2",
   "version": "2.7.16"
  }
 },
 "nbformat": 4,
 "nbformat_minor": 2
}
