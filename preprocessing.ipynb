{
 "cells": [
  {
   "cell_type": "markdown",
   "metadata": {},
   "source": [
    "https://www.kaggle.com/itratrahman/nlp-tutorial-using-python"
   ]
  },
  {
   "cell_type": "code",
   "execution_count": 236,
   "metadata": {},
   "outputs": [],
   "source": [
    "import pandas as pd\n",
    "data = pd.read_excel('data/8360TermProject.xlsx',sheet_name='combined')"
   ]
  },
  {
   "cell_type": "code",
   "execution_count": 237,
   "metadata": {},
   "outputs": [],
   "source": [
    "def removep(text):\n",
    "    '''a function for removing the punctuation'''\n",
    "    # removing the stop words and lowercasing the selected words\n",
    "    text = [word.encode('utf-8').lower().translate(None, '!\"#$%&\\()*+,-./:;<=>?@[\\\\]^_`{|}~') for word in text.split()]\n",
    "    # joining the list of words with space separator\n",
    "    return \" \".join(text)\n",
    "data['text'] = data['combined'].apply(removep)"
   ]
  },
  {
   "cell_type": "code",
   "execution_count": 240,
   "metadata": {},
   "outputs": [
    {
     "name": "stderr",
     "output_type": "stream",
     "text": [
      "/Users/leixian/anaconda2/lib/python2.7/site-packages/ipykernel_launcher.py:8: UnicodeWarning: Unicode equal comparison failed to convert both arguments to Unicode - interpreting them as being unequal\n",
      "  \n"
     ]
    }
   ],
   "source": [
    "import nltk\n",
    "from nltk.corpus import stopwords\n",
    "#nltk.download('stopwords')\n",
    "sw = stopwords.words('english')\n",
    "def stopwords(text):\n",
    "    '''a function for removing the stopword''' \n",
    "    # removing the stop words and lowercasing the selected words\n",
    "    text = [word.lower() for word in text.split() if word.lower() not in sw]\n",
    "    # joining the list of words with space separator\n",
    "    return \" \".join(text)\n",
    "data['text'] = data['text'].apply(stopwords)\n"
   ]
  },
  {
   "cell_type": "code",
   "execution_count": 241,
   "metadata": {},
   "outputs": [],
   "source": [
    "from nltk.stem.snowball import SnowballStemmer\n",
    "stemmer = SnowballStemmer(\"english\")\n",
    "def stemming(text):    \n",
    "    '''a function which stems each word in the given text'''\n",
    "    text = [stemmer.stem(word) for word in text.split()]\n",
    "    return \" \".join(text)\n",
    "\n",
    "data[\"text\"] = [str(x).decode('utf-8') for x in data[\"text\"]]\n",
    "data['text'] = data['text'].apply(stemming)\n"
   ]
  },
  {
   "cell_type": "code",
   "execution_count": 245,
   "metadata": {},
   "outputs": [],
   "source": [
    "#data['text'] = data.text.str.encode('utf-8')\n",
    "#data['combined'] = data.combined.str.encode('utf-8')\n",
    "data1 = data[['combined','text','label (0: normal, 1: depression, 2: PTSD, 3: Bipolar)']]\n",
    "#data1.to_csv('data_V1.csv')"
   ]
  },
  {
   "cell_type": "code",
   "execution_count": 247,
   "metadata": {},
   "outputs": [
    {
     "data": {
      "text/html": [
       "<div>\n",
       "<style scoped>\n",
       "    .dataframe tbody tr th:only-of-type {\n",
       "        vertical-align: middle;\n",
       "    }\n",
       "\n",
       "    .dataframe tbody tr th {\n",
       "        vertical-align: top;\n",
       "    }\n",
       "\n",
       "    .dataframe thead th {\n",
       "        text-align: right;\n",
       "    }\n",
       "</style>\n",
       "<table border=\"1\" class=\"dataframe\">\n",
       "  <thead>\n",
       "    <tr style=\"text-align: right;\">\n",
       "      <th></th>\n",
       "      <th>combined</th>\n",
       "      <th>text</th>\n",
       "      <th>label (0: normal, 1: depression, 2: PTSD, 3: Bipolar)</th>\n",
       "    </tr>\n",
       "  </thead>\n",
       "  <tbody>\n",
       "    <tr>\n",
       "      <th>0</th>\n",
       "      <td>Can I get an upvote to know that you all here ...</td>\n",
       "      <td>get upvot know reddit care birthday end famili...</td>\n",
       "      <td>3</td>\n",
       "    </tr>\n",
       "    <tr>\n",
       "      <th>1</th>\n",
       "      <td>Anyone else tired of the finger pointing at me...</td>\n",
       "      <td>anyon els tire finger point mental ill come gu...</td>\n",
       "      <td>3</td>\n",
       "    </tr>\n",
       "    <tr>\n",
       "      <th>2</th>\n",
       "      <td>Can I get an up vote for not pulling the trigg...</td>\n",
       "      <td>get vote pull trigger hour ago hold gun head d...</td>\n",
       "      <td>3</td>\n",
       "    </tr>\n",
       "    <tr>\n",
       "      <th>3</th>\n",
       "      <td>Is anyone else high functioning? I read a lot ...</td>\n",
       "      <td>anyon els high function read lot post sub feel...</td>\n",
       "      <td>3</td>\n",
       "    </tr>\n",
       "    <tr>\n",
       "      <th>4</th>\n",
       "      <td>My psychiatrist died today. He was awesome. I'...</td>\n",
       "      <td>psychiatrist die today awesom i'll miss want s...</td>\n",
       "      <td>3</td>\n",
       "    </tr>\n",
       "    <tr>\n",
       "      <th>5</th>\n",
       "      <td>Medication Shame Today, a colleague was talkin...</td>\n",
       "      <td>medic shame today colleagu talk lithium thing ...</td>\n",
       "      <td>3</td>\n",
       "    </tr>\n",
       "    <tr>\n",
       "      <th>6</th>\n",
       "      <td>I don't know why some people think this disord...</td>\n",
       "      <td>know peopl think disord anyway gift serious cr...</td>\n",
       "      <td>3</td>\n",
       "    </tr>\n",
       "    <tr>\n",
       "      <th>7</th>\n",
       "      <td>I did the dishes It took everything I had not ...</td>\n",
       "      <td>dish took everyth crawl back bed it‚äô grey co...</td>\n",
       "      <td>3</td>\n",
       "    </tr>\n",
       "    <tr>\n",
       "      <th>8</th>\n",
       "      <td>The death of Robin Williams: A teachable momen...</td>\n",
       "      <td>death robin william teachabl moment read actor...</td>\n",
       "      <td>3</td>\n",
       "    </tr>\n",
       "    <tr>\n",
       "      <th>9</th>\n",
       "      <td>My therapist asked me.. ‚ÄúHow does your bipol...</td>\n",
       "      <td>therapist ask ‚äúhow bipolar affect you‚äù wel...</td>\n",
       "      <td>3</td>\n",
       "    </tr>\n",
       "  </tbody>\n",
       "</table>\n",
       "</div>"
      ],
      "text/plain": [
       "                                            combined  \\\n",
       "0  Can I get an upvote to know that you all here ...   \n",
       "1  Anyone else tired of the finger pointing at me...   \n",
       "2  Can I get an up vote for not pulling the trigg...   \n",
       "3  Is anyone else high functioning? I read a lot ...   \n",
       "4  My psychiatrist died today. He was awesome. I'...   \n",
       "5  Medication Shame Today, a colleague was talkin...   \n",
       "6  I don't know why some people think this disord...   \n",
       "7  I did the dishes It took everything I had not ...   \n",
       "8  The death of Robin Williams: A teachable momen...   \n",
       "9  My therapist asked me.. ‚ÄúHow does your bipol...   \n",
       "\n",
       "                                                text  \\\n",
       "0  get upvot know reddit care birthday end famili...   \n",
       "1  anyon els tire finger point mental ill come gu...   \n",
       "2  get vote pull trigger hour ago hold gun head d...   \n",
       "3  anyon els high function read lot post sub feel...   \n",
       "4  psychiatrist die today awesom i'll miss want s...   \n",
       "5  medic shame today colleagu talk lithium thing ...   \n",
       "6  know peopl think disord anyway gift serious cr...   \n",
       "7  dish took everyth crawl back bed it‚äô grey co...   \n",
       "8  death robin william teachabl moment read actor...   \n",
       "9  therapist ask ‚äúhow bipolar affect you‚äù wel...   \n",
       "\n",
       "   label (0: normal, 1: depression, 2: PTSD, 3: Bipolar)  \n",
       "0                                                  3      \n",
       "1                                                  3      \n",
       "2                                                  3      \n",
       "3                                                  3      \n",
       "4                                                  3      \n",
       "5                                                  3      \n",
       "6                                                  3      \n",
       "7                                                  3      \n",
       "8                                                  3      \n",
       "9                                                  3      "
      ]
     },
     "execution_count": 247,
     "metadata": {},
     "output_type": "execute_result"
    }
   ],
   "source": [
    "data1.head(10)"
   ]
  },
  {
   "cell_type": "code",
   "execution_count": null,
   "metadata": {},
   "outputs": [],
   "source": []
  }
 ],
 "metadata": {
  "kernelspec": {
   "display_name": "Python 2",
   "language": "python",
   "name": "python2"
  },
  "language_info": {
   "codemirror_mode": {
    "name": "ipython",
    "version": 2
   },
   "file_extension": ".py",
   "mimetype": "text/x-python",
   "name": "python",
   "nbconvert_exporter": "python",
   "pygments_lexer": "ipython2",
   "version": "2.7.14"
  }
 },
 "nbformat": 4,
 "nbformat_minor": 2
}
