{
 "cells": [
  {
   "cell_type": "code",
   "execution_count": 1,
   "metadata": {
    "collapsed": true
   },
   "outputs": [],
   "source": [
    "import sys\n",
    "import numpy as np\n",
    "from matplotlib import pyplot as plt"
   ]
  },
  {
   "cell_type": "code",
   "execution_count": 2,
   "metadata": {
    "collapsed": true
   },
   "outputs": [],
   "source": [
    "history_track = np.load(\"../../model_trace/trace_history_ver_1.1.0.npy\")"
   ]
  },
  {
   "cell_type": "markdown",
   "metadata": {},
   "source": [
    "## Base model"
   ]
  },
  {
   "cell_type": "code",
   "execution_count": 3,
   "metadata": {
    "collapsed": true
   },
   "outputs": [],
   "source": [
    "train_loss = history_track[0]\n",
    "train_acc = history_track[1]\n",
    "val_acc = history_track[2]\n",
    "\n",
    "t = np.array(train_loss)[:,0]\n",
    "loss = np.array(train_loss)[:,1]\n",
    "\n",
    "acc_t = np.array(train_acc)[:,0]\n",
    "train_acc_y = np.array(train_acc)[:,1]\n",
    "val_acc_y = np.array(val_acc)[:,1]\n",
    "\n",
    "fig = plt.figure(figsize=(14,10))\n",
    "plt.rcParams.update({'font.size': 18})\n",
    "plt.rcParams['font.family'] = 'sans-serif'\n",
    "plt.rcParams['font.sans-serif'] = ['Tahoma']\n",
    "plt.plot(acc_t,val_acc_y,linewidth=3.0)\n",
    "plt.plot(acc_t,train_acc_y,linewidth=3.0)\n",
    "plt.legend(['Validation Accuracy', 'Training Accuracy'], loc='upper left')\n",
    "plt.xlabel(\"Training Steps\")\n",
    "plt.ylabel(\"Accuracy\")\n",
    "plt.gca().set_yticklabels(['{:.0f}%'.format(x*100) for x in plt.gca().get_yticks()])\n",
    "plt.title(\"Training & Validation accuracy with 100 epochs\")\n",
    "#plt.show()\n",
    "plt.savefig('accuracy.png')\n",
    "\n",
    "fig = plt.figure(figsize=(14,10))\n",
    "plt.rcParams.update({'font.size': 18})\n",
    "plt.rcParams['font.family'] = 'sans-serif'\n",
    "plt.rcParams['font.sans-serif'] = ['Tahoma']\n",
    "plt.plot(t,loss,linewidth=3.0)\n",
    "plt.legend(['Training Loss'], loc='upper right')\n",
    "plt.xlabel(\"Training Steps\")\n",
    "plt.ylabel(\"Regularized Loss\")\n",
    "plt.title(\"Training loss with 100 epochs\")\n",
    "#plt.show()\n",
    "plt.savefig('loss.png')"
   ]
  },
  {
   "cell_type": "code",
   "execution_count": null,
   "metadata": {
    "collapsed": true
   },
   "outputs": [],
   "source": []
  }
 ],
 "metadata": {
  "kernelspec": {
   "display_name": "Python 2",
   "language": "python",
   "name": "python2"
  },
  "language_info": {
   "codemirror_mode": {
    "name": "ipython",
    "version": 2
   },
   "file_extension": ".py",
   "mimetype": "text/x-python",
   "name": "python",
   "nbconvert_exporter": "python",
   "pygments_lexer": "ipython2",
   "version": "2.7.16"
  }
 },
 "nbformat": 4,
 "nbformat_minor": 2
}
